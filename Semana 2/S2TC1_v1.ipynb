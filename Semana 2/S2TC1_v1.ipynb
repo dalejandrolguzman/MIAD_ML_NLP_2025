{
 "cells": [
  {
   "cell_type": "markdown",
   "metadata": {
    "cell_id": "502077ada3114d5cb82907a8a4918044",
    "deepnote_cell_type": "markdown"
   },
   "source": [
    "![image info](https://raw.githubusercontent.com/albahnsen/MIAD_ML_and_NLP/main/images/banner_1.png)"
   ]
  },
  {
   "cell_type": "markdown",
   "metadata": {
    "cell_id": "cf26d54dac1e43429dd544c3b7a7a98a",
    "deepnote_cell_type": "markdown"
   },
   "source": [
    "# Taller: Construcción e implementación de modelos Bagging, Random Forest y XGBoost\n",
    "\n",
    "En este taller podrán poner en práctica sus conocimientos sobre la construcción e implementación de modelos de Bagging, Random Forest y XGBoost. El taller está constituido por 8 puntos, en los cuales deberan seguir las intrucciones de cada numeral para su desarrollo."
   ]
  },
  {
   "cell_type": "markdown",
   "metadata": {
    "cell_id": "b985ee54bdb04078b7908c91b7d0dd3f",
    "deepnote_cell_type": "markdown"
   },
   "source": [
    "## Datos predicción precio de automóviles\n",
    "\n",
    "En este taller se usará el conjunto de datos de Car Listings de Kaggle donde cada observación representa el precio de un automóvil teniendo en cuenta distintas variables como año, marca, modelo, entre otras. El objetivo es predecir el precio del automóvil. Para más detalles puede visitar el siguiente enlace: [datos](https://www.kaggle.com/jpayne/852k-used-car-listings)."
   ]
  },
  {
   "cell_type": "code",
   "execution_count": 5,
   "metadata": {
    "cell_id": "c8d3674ef7e04e8095e0f71900eec6dd",
    "deepnote_cell_type": "code",
    "execution_context_id": "71452586-9001-4522-82d6-09fd0a59ee59",
    "execution_millis": 1,
    "execution_start": 1743970836941,
    "source_hash": "17e3dbca"
   },
   "outputs": [],
   "source": [
    "import warnings\n",
    "warnings.filterwarnings('ignore')"
   ]
  },
  {
   "cell_type": "code",
   "execution_count": 6,
   "metadata": {
    "cell_id": "e0927606be124b2bbee6a85191911eb5",
    "deepnote_cell_type": "code",
    "execution_context_id": "70cd3c1a-e17f-46cd-bc46-1670503fe6a4",
    "execution_millis": 4,
    "execution_start": 1743974880291,
    "source_hash": "a484b81c"
   },
   "outputs": [],
   "source": [
    "# Importación de librerías\n",
    "%matplotlib inline\n",
    "import pandas as pd\n",
    "import numpy as np\n",
    "import matplotlib.pyplot as plt\n",
    "from sklearn.metrics import mean_squared_error, mean_absolute_error\n",
    "from sklearn.tree import DecisionTreeRegressor\n",
    "from sklearn.ensemble import BaggingRegressor\n",
    "from sklearn.ensemble import RandomForestRegressor\n",
    "from sklearn.model_selection import cross_val_score\n",
    "import matplotlib.pyplot as plt\n"
   ]
  },
  {
   "cell_type": "code",
   "execution_count": 7,
   "metadata": {
    "cell_id": "99a08245d3124624ae9fe32ecf18fb41",
    "deepnote_cell_type": "code",
    "execution_context_id": "71452586-9001-4522-82d6-09fd0a59ee59",
    "execution_millis": 715,
    "execution_start": 1743970847796,
    "source_hash": "f8326368"
   },
   "outputs": [
    {
     "data": {
      "text/html": [
       "<div>\n",
       "<style scoped>\n",
       "    .dataframe tbody tr th:only-of-type {\n",
       "        vertical-align: middle;\n",
       "    }\n",
       "\n",
       "    .dataframe tbody tr th {\n",
       "        vertical-align: top;\n",
       "    }\n",
       "\n",
       "    .dataframe thead th {\n",
       "        text-align: right;\n",
       "    }\n",
       "</style>\n",
       "<table border=\"1\" class=\"dataframe\">\n",
       "  <thead>\n",
       "    <tr style=\"text-align: right;\">\n",
       "      <th></th>\n",
       "      <th>Price</th>\n",
       "      <th>Year</th>\n",
       "      <th>Mileage</th>\n",
       "      <th>M_Camry</th>\n",
       "      <th>M_Camry4dr</th>\n",
       "      <th>M_CamryBase</th>\n",
       "      <th>M_CamryL</th>\n",
       "      <th>M_CamryLE</th>\n",
       "      <th>M_CamrySE</th>\n",
       "      <th>M_CamryXLE</th>\n",
       "    </tr>\n",
       "  </thead>\n",
       "  <tbody>\n",
       "    <tr>\n",
       "      <th>7</th>\n",
       "      <td>21995</td>\n",
       "      <td>2014</td>\n",
       "      <td>6480</td>\n",
       "      <td>0</td>\n",
       "      <td>0</td>\n",
       "      <td>0</td>\n",
       "      <td>1</td>\n",
       "      <td>0</td>\n",
       "      <td>0</td>\n",
       "      <td>0</td>\n",
       "    </tr>\n",
       "    <tr>\n",
       "      <th>11</th>\n",
       "      <td>13995</td>\n",
       "      <td>2014</td>\n",
       "      <td>39972</td>\n",
       "      <td>0</td>\n",
       "      <td>0</td>\n",
       "      <td>0</td>\n",
       "      <td>0</td>\n",
       "      <td>1</td>\n",
       "      <td>0</td>\n",
       "      <td>0</td>\n",
       "    </tr>\n",
       "    <tr>\n",
       "      <th>167</th>\n",
       "      <td>17941</td>\n",
       "      <td>2016</td>\n",
       "      <td>18989</td>\n",
       "      <td>0</td>\n",
       "      <td>0</td>\n",
       "      <td>0</td>\n",
       "      <td>0</td>\n",
       "      <td>0</td>\n",
       "      <td>1</td>\n",
       "      <td>0</td>\n",
       "    </tr>\n",
       "    <tr>\n",
       "      <th>225</th>\n",
       "      <td>12493</td>\n",
       "      <td>2014</td>\n",
       "      <td>51330</td>\n",
       "      <td>0</td>\n",
       "      <td>0</td>\n",
       "      <td>0</td>\n",
       "      <td>1</td>\n",
       "      <td>0</td>\n",
       "      <td>0</td>\n",
       "      <td>0</td>\n",
       "    </tr>\n",
       "    <tr>\n",
       "      <th>270</th>\n",
       "      <td>7994</td>\n",
       "      <td>2007</td>\n",
       "      <td>116065</td>\n",
       "      <td>0</td>\n",
       "      <td>1</td>\n",
       "      <td>0</td>\n",
       "      <td>0</td>\n",
       "      <td>0</td>\n",
       "      <td>0</td>\n",
       "      <td>0</td>\n",
       "    </tr>\n",
       "  </tbody>\n",
       "</table>\n",
       "</div>"
      ],
      "text/plain": [
       "     Price  Year  Mileage  M_Camry  M_Camry4dr  M_CamryBase  M_CamryL  \\\n",
       "7    21995  2014     6480        0           0            0         1   \n",
       "11   13995  2014    39972        0           0            0         0   \n",
       "167  17941  2016    18989        0           0            0         0   \n",
       "225  12493  2014    51330        0           0            0         1   \n",
       "270   7994  2007   116065        0           1            0         0   \n",
       "\n",
       "     M_CamryLE  M_CamrySE  M_CamryXLE  \n",
       "7            0          0           0  \n",
       "11           1          0           0  \n",
       "167          0          1           0  \n",
       "225          0          0           0  \n",
       "270          0          0           0  "
      ]
     },
     "execution_count": 7,
     "metadata": {},
     "output_type": "execute_result"
    }
   ],
   "source": [
    "# Lectura de la información de archivo .csv\n",
    "data = pd.read_csv('https://raw.githubusercontent.com/albahnsen/MIAD_ML_and_NLP/main/datasets/dataTrain_carListings.zip')\n",
    "\n",
    "# Preprocesamiento de datos para el taller\n",
    "data = data.loc[data['Model'].str.contains('Camry')].drop(['Make', 'State'], axis=1)\n",
    "data = data.join(pd.get_dummies(data['Model'], prefix='M'))\n",
    "data = data.drop(['Model'], axis=1)\n",
    "\n",
    "# Visualización dataset\n",
    "data.head()"
   ]
  },
  {
   "cell_type": "code",
   "execution_count": 8,
   "metadata": {
    "cell_id": "8cf74346a6484e639690882c8d7ad3aa",
    "deepnote_cell_type": "code",
    "execution_context_id": "71452586-9001-4522-82d6-09fd0a59ee59",
    "execution_millis": 1,
    "execution_start": 1743970671519,
    "source_hash": "1a88a7dd"
   },
   "outputs": [],
   "source": [
    "# Separación de variables predictoras (X) y variable de interés (y)\n",
    "y = data['Price']\n",
    "X = data.drop(['Price'], axis=1)"
   ]
  },
  {
   "cell_type": "code",
   "execution_count": 9,
   "metadata": {
    "cell_id": "cf60f49362e74043ace19d7a9f8993af",
    "deepnote_cell_type": "code",
    "execution_context_id": "71452586-9001-4522-82d6-09fd0a59ee59",
    "execution_millis": 2,
    "execution_start": 1743970674080,
    "source_hash": "72c6640e"
   },
   "outputs": [],
   "source": [
    "# Separación de datos en set de entrenamiento y test\n",
    "from sklearn.model_selection import train_test_split\n",
    "X_train, X_test, y_train, y_test = train_test_split(X, y, test_size=0.33, random_state=42)"
   ]
  },
  {
   "cell_type": "markdown",
   "metadata": {
    "cell_id": "a3499115e0f34d97b5d921c90b194eb6",
    "deepnote_cell_type": "markdown"
   },
   "source": [
    "### Punto 1 - Árbol de decisión manual\n",
    "\n",
    "En la celda 1 creen un árbol de decisión **manualmente**  que considere los set de entrenamiento y test definidos anteriormente y presenten el RMSE y MAE del modelo en el set de test."
   ]
  },
  {
   "cell_type": "code",
   "execution_count": 10,
   "metadata": {
    "cell_id": "dd292ef2de25441db6d7bb7950077a41",
    "deepnote_cell_type": "code",
    "execution_context_id": "71452586-9001-4522-82d6-09fd0a59ee59",
    "execution_millis": 13,
    "execution_start": 1743970868661,
    "source_hash": "ec616cd5"
   },
   "outputs": [
    {
     "name": "stdout",
     "output_type": "stream",
     "text": [
      "Estadísticas descriptivas - Variables numéricas:\n",
      "              Price          Year        Mileage       M_Camry    M_Camry4dr  \\\n",
      "count  10495.000000  10495.000000   10495.000000  10495.000000  10495.000000   \n",
      "mean   14538.403716   2013.553883   52509.430395      0.056313      0.158456   \n",
      "std     3922.420961      3.116585   36791.736601      0.230535      0.365186   \n",
      "min     5002.000000   1998.000000       5.000000      0.000000      0.000000   \n",
      "25%    11999.000000   2012.000000   26461.000000      0.000000      0.000000   \n",
      "50%    15000.000000   2014.000000   41680.000000      0.000000      0.000000   \n",
      "75%    16999.000000   2016.000000   71355.500000      0.000000      0.000000   \n",
      "max    32444.000000   2018.000000  232658.000000      1.000000      1.000000   \n",
      "\n",
      "        M_CamryBase      M_CamryL     M_CamryLE     M_CamrySE    M_CamryXLE  \n",
      "count  10495.000000  10495.000000  10495.000000  10495.000000  10495.000000  \n",
      "mean       0.012292      0.048213      0.236494      0.376370      0.111863  \n",
      "std        0.110189      0.214227      0.424949      0.484498      0.315213  \n",
      "min        0.000000      0.000000      0.000000      0.000000      0.000000  \n",
      "25%        0.000000      0.000000      0.000000      0.000000      0.000000  \n",
      "50%        0.000000      0.000000      0.000000      0.000000      0.000000  \n",
      "75%        0.000000      0.000000      0.000000      1.000000      0.000000  \n",
      "max        1.000000      1.000000      1.000000      1.000000      1.000000  \n"
     ]
    }
   ],
   "source": [
    "# Celda 1\n",
    "# Estadísticas descriptivas\n",
    "print(\"Estadísticas descriptivas - Variables numéricas:\")\n",
    "print(data.describe())"
   ]
  },
  {
   "cell_type": "code",
   "execution_count": 11,
   "metadata": {
    "cell_id": "218923a81835486889103fe1f458b3c3",
    "deepnote_cell_type": "code",
    "execution_context_id": "71452586-9001-4522-82d6-09fd0a59ee59",
    "execution_millis": 12445,
    "execution_start": 1743970886224,
    "source_hash": "233b7e35"
   },
   "outputs": [
    {
     "name": "stdout",
     "output_type": "stream",
     "text": [
      "Arbol Manual:\n"
     ]
    },
    {
     "data": {
      "text/plain": [
       "{'feature': 'Year',\n",
       " 'threshold': 2012,\n",
       " 'left': {'feature': 'Year',\n",
       "  'threshold': 2011,\n",
       "  'left': {'feature': 'Mileage',\n",
       "   'threshold': 99121,\n",
       "   'left': {'prediction': 9869.941007194244},\n",
       "   'right': {'prediction': 7704.2112860892385}},\n",
       "  'right': {'feature': 'Mileage',\n",
       "   'threshold': 82133,\n",
       "   'left': {'prediction': 13524.848942598188},\n",
       "   'right': {'prediction': 11089.767567567567}}},\n",
       " 'right': {'feature': 'Year',\n",
       "  'threshold': 2016,\n",
       "  'left': {'feature': 'Mileage',\n",
       "   'threshold': 49121,\n",
       "   'left': {'prediction': 16302.402676399026},\n",
       "   'right': {'prediction': 14004.804278074866}},\n",
       "  'right': {'feature': 'M_CamryXLE',\n",
       "   'threshold': 0,\n",
       "   'left': {'prediction': 18798.41562064156},\n",
       "   'right': {'prediction': 21800.491525423728}}}}"
      ]
     },
     "execution_count": 11,
     "metadata": {},
     "output_type": "execute_result"
    }
   ],
   "source": [
    "# Arbol Manual\n",
    "# Función para calcular la reducción de la varianza\n",
    "def variance_reduction(y, y_left, y_right):\n",
    "    var_total = np.var(y)\n",
    "    var_left = np.var(y_left)\n",
    "    var_right = np.var(y_right)\n",
    "    \n",
    "    weight_left = len(y_left) / len(y)\n",
    "    weight_right = len(y_right) / len(y)\n",
    "    \n",
    "    return var_total - (weight_left * var_left + weight_right * var_right)\n",
    "\n",
    "# Función para encontrar la mejor división\n",
    "def best_split(X, y):\n",
    "    best_feature = None\n",
    "    best_threshold = None\n",
    "    best_gain = -np.inf\n",
    "\n",
    "    for feature in X.columns:\n",
    "        thresholds = X[feature].unique()\n",
    "        for threshold in thresholds:\n",
    "            left_indices = X[feature] <= threshold\n",
    "            right_indices = X[feature] > threshold\n",
    "\n",
    "            y_left = y[left_indices]\n",
    "            y_right = y[right_indices]\n",
    "\n",
    "            if len(y_left) > 0 and len(y_right) > 0:\n",
    "                gain = variance_reduction(y, y_left, y_right)\n",
    "                if gain > best_gain:\n",
    "                    best_feature = feature\n",
    "                    best_threshold = threshold\n",
    "                    best_gain = gain\n",
    "\n",
    "    return best_feature, best_threshold, best_gain\n",
    "\n",
    "# Función para construir el árbol recursivamente\n",
    "def build_tree(X, y, depth=0, max_depth=3):\n",
    "    if depth == max_depth or len(y) <= 1:\n",
    "        return {'prediction': y.mean()}\n",
    "\n",
    "    feature, threshold, gain = best_split(X, y)\n",
    "\n",
    "    if gain == 0:\n",
    "        return {'prediction': y.mean()}\n",
    "\n",
    "    left_indices = X[feature] <= threshold\n",
    "    right_indices = X[feature] > threshold\n",
    "\n",
    "    left_tree = build_tree(X[left_indices], y[left_indices], depth + 1, max_depth)\n",
    "    right_tree = build_tree(X[right_indices], y[right_indices], depth + 1, max_depth)\n",
    "\n",
    "    return {\n",
    "        'feature': feature,\n",
    "        'threshold': threshold,\n",
    "        'left': left_tree,\n",
    "        'right': right_tree\n",
    "    }\n",
    "\n",
    "# Construir el árbol\n",
    "tree = build_tree(X_train, y_train, max_depth=3)\n",
    "\n",
    "# Función para hacer predicciones\n",
    "def predict(tree, X):\n",
    "    if 'prediction' in tree:\n",
    "        return tree['prediction']\n",
    "\n",
    "    feature = tree['feature']\n",
    "    threshold = tree['threshold']\n",
    "\n",
    "    if X[feature] <= threshold:\n",
    "        return predict(tree['left'], X)\n",
    "    else:\n",
    "        return predict(tree['right'], X)\n",
    "\n",
    "# Hacer predicciones en el conjunto de prueba\n",
    "predictions = X_test.apply(lambda x: predict(tree, x), axis=1)\n",
    "\n",
    "# RMSE y MAE\n",
    "rmse_mt = np.sqrt(mean_squared_error(y_test, predictions))\n",
    "mae_mt = mean_absolute_error(y_test, predictions)\n",
    "\n",
    "print(\"Arbol Manual:\")\n",
    "tree"
   ]
  },
  {
   "cell_type": "code",
   "execution_count": 12,
   "metadata": {
    "cell_id": "60f816776b724fd1971b5e56909c9326",
    "deepnote_cell_type": "code",
    "execution_context_id": "71452586-9001-4522-82d6-09fd0a59ee59",
    "execution_millis": 1,
    "execution_start": 1743971038219,
    "source_hash": "e0cef80f"
   },
   "outputs": [
    {
     "name": "stdout",
     "output_type": "stream",
     "text": [
      "El RMSE del Árbol Manual es:  1935.1155006739664\n",
      "El MAE del Árbol Manual es:  1458.0246928139518\n"
     ]
    }
   ],
   "source": [
    "# RMSE y MAE\n",
    "print(\"El RMSE del Árbol Manual es: \",rmse_mt)\n",
    "print(\"El MAE del Árbol Manual es: \",mae_mt)"
   ]
  },
  {
   "cell_type": "markdown",
   "metadata": {
    "cell_id": "d3f82277f87845eeaf8375913ee6cadf",
    "deepnote_cell_type": "markdown"
   },
   "source": [
    "### Conclusión del punto 1"
   ]
  },
  {
   "cell_type": "markdown",
   "metadata": {
    "cell_id": "5b7ec732f89246c5aeb6d69e2eade804",
    "deepnote_cell_type": "text-cell-p",
    "formattedRanges": [
     {
      "fromCodePoint": 0,
      "marks": {
       "bold": true
      },
      "toCodePoint": 51,
      "type": "marks"
     },
     {
      "fromCodePoint": 53,
      "marks": {
       "bold": true
      },
      "toCodePoint": 79,
      "type": "marks"
     }
    ]
   },
   "source": [
    "Análisis de Resultados del Árbol de Decisión Manual\n",
    "RMSE - Media del Precio:\n",
    "El RMSE del árbol de decisión manual es 1,935.12, lo que representa aproximadamente el 13.31% (1,935.12 / 14,538.40) de la media del precio (14,538.40). El  porcentaje nos indica que el modelo tiene en general presenta ajuste adecuado."
   ]
  },
  {
   "cell_type": "markdown",
   "metadata": {
    "cell_id": "1fed6b257a08445485666dd337c3f642",
    "deepnote_cell_type": "text-cell-p",
    "formattedRanges": [
     {
      "fromCodePoint": 0,
      "marks": {
       "bold": true
      },
      "toCodePoint": 40,
      "type": "marks"
     }
    ]
   },
   "source": [
    "RMSE - Desviación Estándar del Precio:\n",
    "La desviación estándar del precio (3,922.42), el RMSE es aproximadamente el 49.33% (1,935.12 / 3,922.42). Nos indica que el modelo tiene precisión aceptable que se puede mejorar, ya que el RMSE debería ser menor en comparación con la varianza normal de la informacion."
   ]
  },
  {
   "cell_type": "markdown",
   "metadata": {
    "cell_id": "9da2cdedaaa64116aaa196bc4c3415aa",
    "deepnote_cell_type": "text-cell-p",
    "formattedRanges": [
     {
      "fromCodePoint": 0,
      "marks": {
       "bold": true
      },
      "toCodePoint": 25,
      "type": "marks"
     }
    ]
   },
   "source": [
    "MAE - Media del Precio:\n",
    "El MAE del árbol de decisión manual 1,458.02, lo que equivale aproximadamente al 10.03% (1,458.02 / 14,538.40) del promedio del precio. Los errores en las predicciones son realitvamente bajos. Como modelo inicial es adecuado."
   ]
  },
  {
   "cell_type": "markdown",
   "metadata": {
    "cell_id": "55e71b43a3b64b7b92fc801495d4ecfd",
    "deepnote_cell_type": "markdown"
   },
   "source": [
    "### Punto 2 - Bagging manual\n",
    "\n",
    "En la celda 2 creen un modelo bagging **manualmente** con 10 árboles de regresión y comenten sobre el desempeño del modelo."
   ]
  },
  {
   "cell_type": "code",
   "execution_count": 13,
   "metadata": {
    "cell_id": "44c66275f451414d94242297804332c7",
    "deepnote_cell_type": "code",
    "execution_context_id": "71452586-9001-4522-82d6-09fd0a59ee59",
    "execution_millis": 294,
    "execution_start": 1743971043395,
    "source_hash": "9de57d6e"
   },
   "outputs": [
    {
     "name": "stdout",
     "output_type": "stream",
     "text": [
      "El RMSE del Bagging Manual es:  1796.4355868399332\n",
      "El MAE del Bagging Manual es:  1340.0160739030025\n"
     ]
    }
   ],
   "source": [
    "# Celda 2\n",
    "# Bagging Manual\n",
    "# Crear muestras bootstrap\n",
    "np.random.seed(123)\n",
    "n_samples = X_train.shape[0]\n",
    "n_trees = 10\n",
    "\n",
    "samples = [np.random.choice(a=n_samples, size=n_samples, replace=True) for _ in range(n_trees)]\n",
    "\n",
    "# Entrenar 10 árboles de decisión en las muestras bootstrap\n",
    "trees = []\n",
    "for sample in samples:\n",
    "    X_sample = X_train.iloc[sample]\n",
    "    y_sample = y_train.iloc[sample]\n",
    "    tree = DecisionTreeRegressor(random_state=123)\n",
    "    tree.fit(X_sample, y_sample)\n",
    "    trees.append(tree)\n",
    "\n",
    "# Hacer predicciones promedio en el conjunto de prueba\n",
    "predictions = np.zeros(X_test.shape[0])\n",
    "for tree in trees:\n",
    "    predictions += tree.predict(X_test)\n",
    "predictions /= n_trees\n",
    "\n",
    "# RMSE y MAE\n",
    "rmse_bm = np.sqrt(mean_squared_error(y_test, predictions))\n",
    "mae_bm = mean_absolute_error(y_test, predictions)\n",
    "\n",
    "# RMSE y MAE\n",
    "print(\"El RMSE del Bagging Manual es: \",rmse_bm)\n",
    "print(\"El MAE del Bagging Manual es: \",mae_bm)"
   ]
  },
  {
   "cell_type": "markdown",
   "metadata": {
    "cell_id": "c567e0b2262043eeaa99c5cadd94f44d",
    "deepnote_cell_type": "markdown"
   },
   "source": [
    "### Conclusión del punto 2"
   ]
  },
  {
   "cell_type": "markdown",
   "metadata": {
    "cell_id": "1b9d4fb1cd05494484cb0529b892f755",
    "deepnote_cell_type": "text-cell-p",
    "formattedRanges": [
     {
      "fromCodePoint": 0,
      "marks": {
       "bold": true
      },
      "toCodePoint": 48,
      "type": "marks"
     }
    ]
   },
   "source": [
    "Análisis de Resultados del modelo Bagging Manual"
   ]
  },
  {
   "cell_type": "markdown",
   "metadata": {
    "cell_id": "67f340fc3142404ab167af08125cc097",
    "deepnote_cell_type": "text-cell-p",
    "formattedRanges": [
     {
      "fromCodePoint": 0,
      "marks": {
       "bold": true
      },
      "toCodePoint": 24,
      "type": "marks"
     }
    ]
   },
   "source": [
    "RMSE - Media del Precio:\n",
    "El RMSE  es de 1796,44 (12,36 % del precio promedio = 14 538,40) y es mejor que el Árbol de Decisión Manual (1935,12). RMSE del precio estándar = 3922,42 (Es mejor que el Árbol de Decisión Manual). MAE = 1340,02 (9,22 % del precio promedio) y es mejor que el Árbol de Decisión Manual (1458,02)."
   ]
  },
  {
   "cell_type": "markdown",
   "metadata": {
    "cell_id": "af5c0f27d03d40a9b72e5791138ef08c",
    "deepnote_cell_type": "text-cell-p",
    "formattedRanges": [
     {
      "fromCodePoint": 0,
      "marks": {
       "bold": true
      },
      "toCodePoint": 23,
      "type": "marks"
     }
    ]
   },
   "source": [
    "MAE - Media del Precio:"
   ]
  },
  {
   "cell_type": "markdown",
   "metadata": {
    "cell_id": "e2ce08fba0db4b4da3f8e419fbc53db2",
    "deepnote_cell_type": "text-cell-p",
    "formattedRanges": []
   },
   "source": [
    "El MAE del método manual de Bagging es de 1340,02 y el MAE del árbol de decisión manual es de 1458,02, lo que mejora la precisión del método manual de Bagging."
   ]
  },
  {
   "cell_type": "markdown",
   "metadata": {
    "cell_id": "ea11d58af2814069954b02a82c58fe27",
    "deepnote_cell_type": "text-cell-p",
    "formattedRanges": [
     {
      "fromCodePoint": 0,
      "marks": {
       "bold": true
      },
      "toCodePoint": 18,
      "type": "marks"
     }
    ]
   },
   "source": [
    "Conclusion General\n",
    "Ambos modelos tienen un error (RMSE y MAE) menor que la mitad de la desviación estándar del precio, lo que indica que ambos son modelos aceptables y, sin embargo, Bagging Manual es mejor que el Arbol Manual en términos de RMSE y MAE, porque Bagging Manual es mejor para capturar el cambio en el precio del automóvil."
   ]
  },
  {
   "cell_type": "markdown",
   "metadata": {
    "cell_id": "421eba38664a478ab04fcc872e06aba4",
    "deepnote_cell_type": "markdown"
   },
   "source": [
    "### Punto 3 - Bagging con librería\n",
    "\n",
    "En la celda 3, con la librería sklearn, entrenen un modelo bagging con 10 árboles de regresión y el parámetro `max_features` igual a `log(n_features)` y comenten sobre el desempeño del modelo."
   ]
  },
  {
   "cell_type": "code",
   "execution_count": 14,
   "metadata": {
    "cell_id": "71a65f46d5d5476298ddf50fe5ae7a94",
    "deepnote_cell_type": "code",
    "execution_context_id": "71452586-9001-4522-82d6-09fd0a59ee59",
    "execution_millis": 210,
    "execution_start": 1743971356288,
    "source_hash": "2d2e446"
   },
   "outputs": [
    {
     "name": "stdout",
     "output_type": "stream",
     "text": [
      "El RMSE del Bagging libreria es:  1786.4086682967377\n",
      "El MAE del Bagging libreria es:  1332.396452032699\n"
     ]
    }
   ],
   "source": [
    "# Celda 3\n",
    "\n",
    "bagging_model_library = BaggingRegressor(\n",
    "    DecisionTreeRegressor(),\n",
    "    n_estimators=10,  # Número de árboles\n",
    "    random_state=1,\n",
    "    n_jobs=-1,\n",
    "    # max_features='log2'\n",
    ")\n",
    "\n",
    "# Entrenar y evaluar\n",
    "bagging_model_library.fit(X_train, y_train)\n",
    "y_pred = bagging_model_library.predict(X_test)\n",
    "\n",
    "# RMSE y MAE\n",
    "rmse_bl = np.sqrt(mean_squared_error(y_test, y_pred))\n",
    "mae_bl = mean_absolute_error(y_test, y_pred)\n",
    "\n",
    "# RMSE y MAE\n",
    "print(\"El RMSE del Bagging libreria es: \",rmse_bl)\n",
    "print(\"El MAE del Bagging libreria es: \",mae_bl)"
   ]
  },
  {
   "cell_type": "markdown",
   "metadata": {
    "cell_id": "6895f46f0f134a559bd0e5aa552916bd",
    "deepnote_cell_type": "markdown"
   },
   "source": [
    "### Conclusión del punto 3"
   ]
  },
  {
   "cell_type": "markdown",
   "metadata": {
    "cell_id": "6b48d02a709c4875af221c0cad85b0dc",
    "deepnote_cell_type": "text-cell-p",
    "formattedRanges": []
   },
   "source": [
    "Si bien la desviación estándar es de aproximadamente 3900 dólares, un modelo con un RMSE de 1786 podría considerarse aceptable. Sin embargo, esta evaluación puede reconsiderarse al observar que el precio del vehículo más económico es de 5000 dólares. Además, si se toma como referencia el percentil 25, donde el 25 % de los vehículos tienen un valor inferior a 12.000 dólares, el RMSE de 1786 sigue siendo relativamente alto en relación con los precios más bajos."
   ]
  },
  {
   "cell_type": "markdown",
   "metadata": {
    "cell_id": "fe44679e153147999bb862e06e24250f",
    "deepnote_cell_type": "text-cell-p",
    "formattedRanges": []
   },
   "source": []
  },
  {
   "cell_type": "markdown",
   "metadata": {
    "cell_id": "c16b7d13a50d459fb7d053e38dea4d09",
    "deepnote_cell_type": "markdown"
   },
   "source": [
    "### Punto 4 - Random forest con librería\n",
    "\n",
    "En la celda 4, usando la librería sklearn entrenen un modelo de Randon Forest para regresión  y comenten sobre el desempeño del modelo."
   ]
  },
  {
   "cell_type": "code",
   "execution_count": 15,
   "metadata": {
    "cell_id": "4981326bc68744bca05700ac2f009995",
    "deepnote_cell_type": "code",
    "execution_context_id": "71452586-9001-4522-82d6-09fd0a59ee59",
    "execution_millis": 73,
    "execution_start": 1743971597501,
    "source_hash": "14b99d6a"
   },
   "outputs": [
    {
     "name": "stdout",
     "output_type": "stream",
     "text": [
      "El RMSE del Random Forest es:  1818.718070815367\n",
      "El MAE del Random Forest es:  1358.6143693867075\n"
     ]
    }
   ],
   "source": [
    "# Celda 4\n",
    "rf_model = RandomForestRegressor(\n",
    "    n_estimators=10,   # Número de árboles (default=100)\n",
    "    max_features='log2',\n",
    "    random_state=1,    # Semilla para reproducibilidad\n",
    "    n_jobs=-1          # Usar todos los núcleos del CPU\n",
    ")\n",
    "\n",
    "# Entrenar el modelo\n",
    "rf_model.fit(X_train, y_train)\n",
    "\n",
    "# Predecir y evaluar\n",
    "y_pred = rf_model.predict(X_test)\n",
    "\n",
    "# RMSE y MAE\n",
    "rmse_rfl = np.sqrt(mean_squared_error(y_test, y_pred))\n",
    "mae_rfl = mean_absolute_error(y_test, y_pred)\n",
    "\n",
    "# RMSE y MAE\n",
    "print(\"El RMSE del Random Forest es: \",rmse_rfl)\n",
    "print(\"El MAE del Random Forest es: \",mae_rfl)"
   ]
  },
  {
   "cell_type": "markdown",
   "metadata": {
    "cell_id": "42631e98a79c4bbe9deab398020ffb6a",
    "deepnote_cell_type": "markdown"
   },
   "source": [
    "### Conclusión del punto 4"
   ]
  },
  {
   "cell_type": "markdown",
   "metadata": {
    "cell_id": "0ff1908a77fa4fe6b421fd4fd37e33d9",
    "deepnote_cell_type": "text-cell-p",
    "formattedRanges": []
   },
   "source": [
    "Como punto de comparación inicial nos damos cuenta que presenta un peor desempeño que el bagging por librería teniendo en cuenta las mismas consideraciones mencionadas en el punto anterior."
   ]
  },
  {
   "cell_type": "markdown",
   "metadata": {
    "cell_id": "bf88c3c97829470ca80f0f1466b05e6d",
    "deepnote_cell_type": "markdown"
   },
   "source": [
    "### Punto 5 - Calibración de parámetros Random forest\n",
    "\n",
    "En la celda 5, calibren los parámetros max_depth, max_features y n_estimators del modelo de Randon Forest para regresión, comenten sobre el desempeño del modelo y describan cómo cada parámetro afecta el desempeño del modelo."
   ]
  },
  {
   "cell_type": "markdown",
   "metadata": {
    "cell_id": "c19922b497de4cd38a5bc1a32fa9221e",
    "deepnote_cell_type": "markdown"
   },
   "source": [
    "### Numero de estimadores"
   ]
  },
  {
   "cell_type": "code",
   "execution_count": 16,
   "metadata": {
    "cell_id": "f30dc911ee1c4cf5a5627ed8110be454",
    "deepnote_cell_type": "code",
    "execution_context_id": "71452586-9001-4522-82d6-09fd0a59ee59",
    "execution_millis": 433710,
    "execution_start": 1743971645419,
    "source_hash": "73a999ba"
   },
   "outputs": [
    {
     "name": "stdout",
     "output_type": "stream",
     "text": [
      "[0.7963294473153648, 0.7995680579677734, 0.8012049484925179, 0.801851157899969, 0.8017033014904842, 0.8021111826362611, 0.8022066379543563, 0.8022823196714196, 0.802243602732611, 0.8022072907461739, 0.802394971593414, 0.8023436687508235, 0.8024618135754663, 0.8026395592617369, 0.8026714897493614, 0.8026287718953068, 0.8025830725096552, 0.8025805303826612, 0.8025993394197084, 0.8026025149335915, 0.802515228771678, 0.8025197594896799, 0.8025636864423991, 0.802611525390852, 0.8027076183420349, 0.8027484640713063, 0.8027066014891734, 0.8027271410373749, 0.8027429285531534]\n"
     ]
    }
   ],
   "source": [
    "# Creación de lista de valores para iterar sobre diferentes valores de n_estimators\n",
    "estimator_range = range(10, 300, 10)\n",
    "\n",
    "# Definición de lista para almacenar la exactitud (accuracy) promedio para cada valor de n_estimators\n",
    "rmse = []\n",
    "\n",
    "# Uso de un 5-fold cross-validation para cada valor de n_estimators\n",
    "for estimator in estimator_range:\n",
    "    rfr = RandomForestRegressor(n_estimators=estimator, random_state=1, n_jobs=-1)\n",
    "    rmse.append(cross_val_score(rfr, X, y, cv=5, scoring='r2').mean())\n",
    "\n",
    "print(rmse)"
   ]
  },
  {
   "cell_type": "code",
   "execution_count": 17,
   "metadata": {
    "cell_id": "0ffc54a94c1e44ab92d1ef2a88b94188",
    "deepnote_cell_type": "code",
    "execution_context_id": "71452586-9001-4522-82d6-09fd0a59ee59",
    "execution_millis": 22,
    "execution_start": 1743972079190,
    "source_hash": "9901eb4d"
   },
   "outputs": [
    {
     "data": {
      "text/plain": [
       "Text(0, 0.5, 'r2')"
      ]
     },
     "execution_count": 17,
     "metadata": {},
     "output_type": "execute_result"
    },
    {
     "data": {
      "image/png": "[encoded data removed]",
      "text/plain": [
       "<Figure size 432x288 with 1 Axes>"
      ]
     },
     "metadata": {
      "needs_background": "light"
     },
     "output_type": "display_data"
    }
   ],
   "source": [
    "# Gráfica del desempeño del modelo vs la cantidad de n_estimators\n",
    "plt.plot(estimator_range, rmse)\n",
    "plt.xlabel('n_estimators')\n",
    "plt.ylabel('r2')"
   ]
  },
  {
   "cell_type": "markdown",
   "metadata": {
    "cell_id": "c9310ee02b714c43a624b448ed68fb1e",
    "deepnote_cell_type": "markdown"
   },
   "source": [
    "#### Max features"
   ]
  },
  {
   "cell_type": "code",
   "execution_count": 18,
   "metadata": {
    "cell_id": "65fc6329d7444487b4ff146996872e64",
    "deepnote_cell_type": "code",
    "execution_context_id": "71452586-9001-4522-82d6-09fd0a59ee59",
    "execution_millis": 1,
    "execution_start": 1743971640039,
    "source_hash": "44ba9ac8"
   },
   "outputs": [
    {
     "data": {
      "text/plain": [
       "Index(['Year', 'Mileage', 'M_Camry', 'M_Camry4dr', 'M_CamryBase', 'M_CamryL',\n",
       "       'M_CamryLE', 'M_CamrySE', 'M_CamryXLE'],\n",
       "      dtype='object')"
      ]
     },
     "execution_count": 18,
     "metadata": {},
     "output_type": "execute_result"
    }
   ],
   "source": [
    "features_cols = X.columns\n",
    "features_cols"
   ]
  },
  {
   "cell_type": "code",
   "execution_count": 19,
   "metadata": {
    "cell_id": "a697f29ad74345779817e6b8aeea2600",
    "deepnote_cell_type": "code",
    "execution_context_id": "71452586-9001-4522-82d6-09fd0a59ee59",
    "execution_millis": 143777,
    "execution_start": 1743972219379,
    "source_hash": "4c03fad1"
   },
   "outputs": [],
   "source": [
    "# Creación de lista de valores para iterar sobre diferentes valores de max_features\n",
    "feature_range = range(1, len(features_cols)+1)\n",
    "\n",
    "# Definición de lista para almacenar la exactitud (accuracy) promedio para cada valor de max_features\n",
    "accuracy_scores = []\n",
    "\n",
    "# Uso de un 10-fold cross-validation para cada valor de max_features\n",
    "for feature in feature_range:\n",
    "    clf = RandomForestRegressor(n_estimators=200, max_features=feature, random_state=1, n_jobs=-1)\n",
    "    accuracy_scores.append(cross_val_score(clf, X, y, cv=5, scoring='r2').mean())"
   ]
  },
  {
   "cell_type": "code",
   "execution_count": 20,
   "metadata": {
    "cell_id": "cff0e7f6cb70439f90e2cb47f7fbb529",
    "deepnote_cell_type": "code"
   },
   "outputs": [
    {
     "data": {
      "text/plain": [
       "Text(0, 0.5, 'r2')"
      ]
     },
     "execution_count": 20,
     "metadata": {},
     "output_type": "execute_result"
    },
    {
     "data": {
      "image/png": "[encoded data removed]",
      "text/plain": [
       "<Figure size 432x288 with 1 Axes>"
      ]
     },
     "metadata": {
      "needs_background": "light"
     },
     "output_type": "display_data"
    }
   ],
   "source": [
    "# Gráfica del desempeño del modelo vs la cantidad de max_features\n",
    "plt.plot(feature_range, accuracy_scores)\n",
    "plt.xlabel('max_features')\n",
    "plt.ylabel('r2')"
   ]
  },
  {
   "cell_type": "code",
   "execution_count": 21,
   "metadata": {
    "cell_id": "fd907212b89a4c809cb5fb165fbbd5d6",
    "deepnote_cell_type": "code",
    "execution_context_id": "71452586-9001-4522-82d6-09fd0a59ee59",
    "execution_millis": 6086,
    "execution_start": 1743972440781,
    "source_hash": "168cedbe"
   },
   "outputs": [
    {
     "data": {
      "text/html": [
       "<div>\n",
       "<style scoped>\n",
       "    .dataframe tbody tr th:only-of-type {\n",
       "        vertical-align: middle;\n",
       "    }\n",
       "\n",
       "    .dataframe tbody tr th {\n",
       "        vertical-align: top;\n",
       "    }\n",
       "\n",
       "    .dataframe thead th {\n",
       "        text-align: right;\n",
       "    }\n",
       "</style>\n",
       "<table border=\"1\" class=\"dataframe\">\n",
       "  <thead>\n",
       "    <tr style=\"text-align: right;\">\n",
       "      <th></th>\n",
       "      <th>feature</th>\n",
       "      <th>importance</th>\n",
       "    </tr>\n",
       "  </thead>\n",
       "  <tbody>\n",
       "    <tr>\n",
       "      <th>4</th>\n",
       "      <td>M_CamryBase</td>\n",
       "      <td>0.000481</td>\n",
       "    </tr>\n",
       "    <tr>\n",
       "      <th>3</th>\n",
       "      <td>M_Camry4dr</td>\n",
       "      <td>0.001090</td>\n",
       "    </tr>\n",
       "    <tr>\n",
       "      <th>5</th>\n",
       "      <td>M_CamryL</td>\n",
       "      <td>0.001189</td>\n",
       "    </tr>\n",
       "    <tr>\n",
       "      <th>7</th>\n",
       "      <td>M_CamrySE</td>\n",
       "      <td>0.004732</td>\n",
       "    </tr>\n",
       "    <tr>\n",
       "      <th>2</th>\n",
       "      <td>M_Camry</td>\n",
       "      <td>0.006614</td>\n",
       "    </tr>\n",
       "    <tr>\n",
       "      <th>6</th>\n",
       "      <td>M_CamryLE</td>\n",
       "      <td>0.009499</td>\n",
       "    </tr>\n",
       "    <tr>\n",
       "      <th>8</th>\n",
       "      <td>M_CamryXLE</td>\n",
       "      <td>0.015094</td>\n",
       "    </tr>\n",
       "    <tr>\n",
       "      <th>1</th>\n",
       "      <td>Mileage</td>\n",
       "      <td>0.257092</td>\n",
       "    </tr>\n",
       "    <tr>\n",
       "      <th>0</th>\n",
       "      <td>Year</td>\n",
       "      <td>0.704208</td>\n",
       "    </tr>\n",
       "  </tbody>\n",
       "</table>\n",
       "</div>"
      ],
      "text/plain": [
       "       feature  importance\n",
       "4  M_CamryBase    0.000481\n",
       "3   M_Camry4dr    0.001090\n",
       "5     M_CamryL    0.001189\n",
       "7    M_CamrySE    0.004732\n",
       "2      M_Camry    0.006614\n",
       "6    M_CamryLE    0.009499\n",
       "8   M_CamryXLE    0.015094\n",
       "1      Mileage    0.257092\n",
       "0         Year    0.704208"
      ]
     },
     "execution_count": 21,
     "metadata": {},
     "output_type": "execute_result"
    }
   ],
   "source": [
    "# Celda 5\n",
    "# Definición del modelo con los parámetros max_features=6 y n_estimators=200 \n",
    "rfc = RandomForestRegressor(n_estimators=250, max_features=9, random_state=1, n_jobs=-1)\n",
    "rfc.fit(X, y)\n",
    "# Impresión de resultados de desemepeño del modelo\n",
    "pd.DataFrame({'feature':features_cols, 'importance':rfc.feature_importances_}).sort_values('importance')"
   ]
  },
  {
   "cell_type": "code",
   "execution_count": 22,
   "metadata": {
    "cell_id": "c5469949c42f4be2a902ebad61256183",
    "deepnote_cell_type": "code",
    "execution_context_id": "71452586-9001-4522-82d6-09fd0a59ee59",
    "execution_millis": 407,
    "execution_start": 1743972466001,
    "source_hash": "7760194e"
   },
   "outputs": [
    {
     "name": "stdout",
     "output_type": "stream",
     "text": [
      "El RMSE del Random Forest calibrado es:  664.1726301631827\n",
      "El MAE del Random Forest calibrado es:  490.6943767910588\n"
     ]
    }
   ],
   "source": [
    "# Predecir y evaluar\n",
    "y_pred = rfc.predict(X_test)\n",
    "\n",
    "# RMSE y MAE\n",
    "rmse_rfc = np.sqrt(mean_squared_error(y_test, y_pred))\n",
    "mae_rfc = mean_absolute_error(y_test, y_pred)\n",
    "\n",
    "# RMSE y MAE\n",
    "print(\"El RMSE del Random Forest calibrado es: \",rmse_rfc)\n",
    "print(\"El MAE del Random Forest calibrado es: \",mae_rfc)"
   ]
  },
  {
   "cell_type": "markdown",
   "metadata": {
    "cell_id": "fe231e2e8f2948bbbe67fc6cebd7f54a",
    "deepnote_cell_type": "markdown"
   },
   "source": [
    "### Conclusión del punto 5"
   ]
  },
  {
   "cell_type": "markdown",
   "metadata": {
    "cell_id": "5673abab829749d3852385f6909364a7",
    "deepnote_cell_type": "text-cell-p",
    "formattedRanges": []
   },
   "source": [
    "Tomando de nuevo la desviacion estandar  3900 dólares, comparandola con el RMSE de 664 podría considerarse bastante aceptable. Y haciendo una segunda  evaluación el percentil 25, donde el 25 % de los vehículos tienen un valor inferior a 12.000 dólares, el RMSE de 664 sigue siendo bastante bajo lo que hace este modelo mucho más útil."
   ]
  },
  {
   "cell_type": "markdown",
   "metadata": {
    "cell_id": "fc4b4c3aa6ea48238935570f30ac9244",
    "deepnote_cell_type": "text-cell-p",
    "formattedRanges": []
   },
   "source": []
  },
  {
   "cell_type": "markdown",
   "metadata": {
    "cell_id": "6fd76d5d1e0840e79fb8fdde77ecdc68",
    "deepnote_cell_type": "markdown"
   },
   "source": [
    "### Punto 6 - XGBoost con librería\n",
    "\n",
    "En la celda 6 implementen un modelo XGBoost de regresión con la librería sklearn y comenten sobre el desempeño del modulo"
   ]
  },
  {
   "cell_type": "code",
   "execution_count": 23,
   "metadata": {},
   "outputs": [
    {
     "name": "stdout",
     "output_type": "stream",
     "text": [
      "Requirement already satisfied: xgboost in e:\\users\\viejo\\anaconda3\\lib\\site-packages (2.1.4)\n",
      "Requirement already satisfied: scipy in e:\\users\\viejo\\anaconda3\\lib\\site-packages (from xgboost) (1.6.2)\n",
      "Requirement already satisfied: numpy in e:\\users\\viejo\\anaconda3\\lib\\site-packages (from xgboost) (1.20.1)\n"
     ]
    }
   ],
   "source": [
    "!pip install xgboost\n",
    "\n",
    "# Celda 6\n",
    "import warnings\n",
    "warnings.filterwarnings('ignore')\n",
    "\n",
    "# Importación de librerías\n",
    "%matplotlib inline\n",
    "import pandas as pd\n",
    "import xgboost as xgb\n",
    "from sklearn.model_selection import train_test_split\n",
    "from sklearn.metrics import mean_squared_error, r2_score\n",
    "import numpy as np"
   ]
  },
  {
   "cell_type": "code",
   "execution_count": 24,
   "metadata": {
    "cell_id": "2eae2dee14dc4deb9e2929c884ce4487",
    "deepnote_cell_type": "code",
    "execution_context_id": "70cd3c1a-e17f-46cd-bc46-1670503fe6a4",
    "execution_millis": 2587,
    "execution_start": 1743974733691,
    "source_hash": "43d3a32b"
   },
   "outputs": [
    {
     "name": "stdout",
     "output_type": "stream",
     "text": [
      "Resultados del modelo XGBoost:\n",
      "RMSE en entrenamiento: 1386.12\n",
      "RMSE en prueba: 1547.19\n",
      "R2 en entrenamiento: 0.8754\n",
      "R2 en prueba: 0.8435\n",
      "\n",
      "Importancia de las características:\n",
      "Year: 0.7117\n",
      "Mileage: 0.0896\n",
      "M_Camry: 0.0452\n",
      "M_Camry4dr: 0.0085\n",
      "M_CamryBase: 0.0054\n",
      "M_CamryL: 0.0125\n",
      "M_CamryLE: 0.0420\n",
      "M_CamrySE: 0.0113\n",
      "M_CamryXLE: 0.0738\n"
     ]
    }
   ],
   "source": [
    "# Lectura de la información de archivo .csv\n",
    "data = pd.read_csv('https://raw.githubusercontent.com/albahnsen/MIAD_ML_and_NLP/main/datasets/dataTrain_carListings.zip')\n",
    "\n",
    "# Preprocesamiento de datos\n",
    "data = data.loc[data['Model'].str.contains('Camry')].drop(['Make', 'State'], axis=1)\n",
    "data = data.join(pd.get_dummies(data['Model'], prefix='M'))\n",
    "data = data.drop(['Model'], axis=1)\n",
    "\n",
    "# Separación de variables predictoras (X) y variable de interés (y)\n",
    "y = data['Price']\n",
    "X = data.drop(['Price'], axis=1)\n",
    "\n",
    "# Separación de datos en set de entrenamiento y test\n",
    "X_train, X_test, y_train, y_test = train_test_split(X, y, test_size=0.33, random_state=42)\n",
    "\n",
    "# Creación y entrenamiento del modelo XGBoost\n",
    "xgb_model = xgb.XGBRegressor(\n",
    "    objective='reg:squarederror',  # Para regresión\n",
    "    n_estimators=100,              # Número de árboles\n",
    "    learning_rate=0.1,            # Tasa de aprendizaje\n",
    "    max_depth=5,                  # Profundidad máxima\n",
    "    random_state=42               # Semilla para reproducibilidad\n",
    ")\n",
    "\n",
    "# Entrenamiento del modelo\n",
    "xgb_model.fit(X_train, y_train)\n",
    "\n",
    "# Predicciones\n",
    "y_pred_train = xgb_model.predict(X_train)\n",
    "y_pred_test = xgb_model.predict(X_test)\n",
    "\n",
    "# Evaluación del modelo\n",
    "train_rmse_xboost = np.sqrt(mean_squared_error(y_train, y_pred_train))\n",
    "test_rmse_xboost = np.sqrt(mean_squared_error(y_test, y_pred_test))\n",
    "train_r2 = r2_score(y_train, y_pred_train)\n",
    "test_r2 = r2_score(y_test, y_pred_test)\n",
    "\n",
    "# Impresión de resultados\n",
    "print(\"Resultados del modelo XGBoost:\")\n",
    "print(f\"RMSE en entrenamiento: {train_rmse_xboost:.2f}\")\n",
    "print(f\"RMSE en prueba: {test_rmse_xboost:.2f}\")\n",
    "print(f\"R2 en entrenamiento: {train_r2:.4f}\")\n",
    "print(f\"R2 en prueba: {test_r2:.4f}\")\n",
    "\n",
    "# Importancia de características\n",
    "feature_importance = xgb_model.feature_importances_\n",
    "feature_names = X.columns\n",
    "\n",
    "# Mostrar importancia de características\n",
    "print(\"\\nImportancia de las características:\")\n",
    "for name, importance in zip(feature_names, feature_importance):\n",
    "    print(f\"{name}: {importance:.4f}\")"
   ]
  },
  {
   "cell_type": "markdown",
   "metadata": {
    "cell_id": "5cafc11a28d24fb8aebe762c24f2fd7f",
    "deepnote_cell_type": "markdown"
   },
   "source": [
    "### Punto 7 - Calibración de parámetros XGBoost\n",
    "\n",
    "En la celda 7 calibren los parámetros learning rate, gamma y colsample_bytree del modelo XGBoost para regresión, comenten sobre el desempeño del modelo y describan cómo cada parámetro afecta el desempeño del modelo."
   ]
  },
  {
   "cell_type": "code",
   "execution_count": 25,
   "metadata": {
    "cell_id": "1e7bdee774cb4374b8ef2cfd806ea82b",
    "deepnote_cell_type": "code",
    "execution_context_id": "70cd3c1a-e17f-46cd-bc46-1670503fe6a4",
    "execution_millis": 4487,
    "execution_start": 1743974821781,
    "source_hash": "e30c51c6"
   },
   "outputs": [
    {
     "name": "stdout",
     "output_type": "stream",
     "text": [
      "Fitting 5 folds for each of 27 candidates, totalling 135 fits\n",
      "Mejores parámetros encontrados:\n",
      "{'colsample_bytree': 0.6, 'gamma': 0, 'learning_rate': 0.1}\n",
      "\n",
      "Desempeño del modelo XGBoost calibrado:\n",
      "RMSE: 1538.00\n",
      "MAE: 1129.74\n"
     ]
    }
   ],
   "source": [
    "# Celda 7\n",
    "import xgboost as xgb\n",
    "from sklearn.model_selection import GridSearchCV\n",
    "from sklearn.metrics import mean_squared_error, mean_absolute_error\n",
    "import numpy as np\n",
    "\n",
    "# Optimizar tipos de datos\n",
    "X_train = X_train.astype('float32')\n",
    "y_train = y_train.astype('float32')\n",
    "X_test = X_test.astype('float32')\n",
    "y_test = y_test.astype('float32')\n",
    "\n",
    "# Definición del modelo base\n",
    "xgb_model = xgb.XGBRegressor(\n",
    "    objective='reg:squarederror',\n",
    "    n_estimators=100,\n",
    "    max_depth=5,\n",
    "    random_state=42\n",
    ")\n",
    "\n",
    "# Definición de la cuadrícula de parámetros a calibrar\n",
    "param_grid = {\n",
    "    'learning_rate': [0.01, 0.1, 0.3],\n",
    "    'gamma': [0, 0.1, 1],\n",
    "    'colsample_bytree': [0.6, 0.8, 1.0]\n",
    "}\n",
    "\n",
    "# Configuración de GridSearchCV\n",
    "grid_search = GridSearchCV(\n",
    "    estimator=xgb_model,\n",
    "    param_grid=param_grid,\n",
    "    scoring='neg_mean_squared_error',\n",
    "    cv=5,\n",
    "    verbose=1,\n",
    "    n_jobs=2  # Usar 2 núcleos\n",
    ")\n",
    "\n",
    "# Entrenamiento con búsqueda de parámetros\n",
    "grid_search.fit(X_train, y_train)\n",
    "\n",
    "# Mejores parámetros encontrados\n",
    "print(\"Mejores parámetros encontrados:\")\n",
    "print(grid_search.best_params_)\n",
    "\n",
    "# Entrenamiento del modelo con los mejores parámetros\n",
    "best_xgb_model = grid_search.best_estimator_\n",
    "\n",
    "# Predicciones\n",
    "y_pred_test = best_xgb_model.predict(X_test)\n",
    "\n",
    "# Cálculo de métricas\n",
    "rmse_xboost_calibrado = np.sqrt(mean_squared_error(y_test, y_pred_test))\n",
    "mae_xboost_calibrado = mean_absolute_error(y_test, y_pred_test)\n",
    "\n",
    "# Resultados\n",
    "print('\\nDesempeño del modelo XGBoost calibrado:')\n",
    "print(f'RMSE: {rmse_xboost_calibrado:.2f}')\n",
    "print(f'MAE: {mae_xboost_calibrado:.2f}')"
   ]
  },
  {
   "cell_type": "markdown",
   "metadata": {
    "cell_id": "a55f01b2bb46424ebc0505623c12ae04",
    "deepnote_cell_type": "markdown"
   },
   "source": [
    "### Conclusión del punto 7"
   ]
  },
  {
   "cell_type": "markdown",
   "metadata": {
    "cell_id": "f36f6727a2744c5d850ada87e2054b6a",
    "deepnote_cell_type": "text-cell-p",
    "formattedRanges": []
   },
   "source": [
    "El modelo XGBoost calibrado muestra un desempeño optimizado tras la búsqueda de hiperparámetros.\n",
    "Los valores de RMSE y MAE reflejan la capacidad del modelo para predecir precios con mayor precisión."
   ]
  },
  {
   "cell_type": "markdown",
   "metadata": {
    "cell_id": "476ad1365e4c4fd4a27c8a03253c69d3",
    "deepnote_cell_type": "text-cell-p",
    "formattedRanges": []
   },
   "source": [
    "Efecto de los parámetros:\n",
    "- Learning_rate: Controla la contribución de cada árbol. Valores bajos (e.g., 0.01) hacen el aprendizaje más lento y preciso, pero requieren más árboles.\n",
    "- Gamma: Especifica la reducción mínima de pérdida para crear una partición. Valores altos (e.g., 1) hacen el modelo más conservador.\n",
    "- Colsample_bytree: Determina la fracción de características usadas por árbol. Valores menores (e.g., 0.6) aumentan la regularización y reducen el sobreajuste.\n"
   ]
  },
  {
   "cell_type": "markdown",
   "metadata": {
    "cell_id": "7556695a9e9e4d39bc8d2f437ede2562",
    "deepnote_cell_type": "markdown"
   },
   "source": [
    "### Punto 8 - Comparación y análisis de resultados\n",
    "En la celda 8 comparen los resultados obtenidos de los diferentes modelos (random forest y XGBoost) y comenten las ventajas del mejor modelo y las desventajas del modelo con el menor desempeño."
   ]
  },
  {
   "cell_type": "code",
   "execution_count": 32,
   "metadata": {
    "cell_id": "9964cdd0b0c141ab8fa84bc17bd80357",
    "deepnote_cell_type": "code",
    "execution_context_id": "70cd3c1a-e17f-46cd-bc46-1670503fe6a4",
    "execution_millis": 44,
    "execution_start": 1743974867091,
    "source_hash": "51b20f3a"
   },
   "outputs": [
    {
     "data": {
      "image/png": "[encoded data removed]",
      "text/plain": [
       "<Figure size 1008x432 with 1 Axes>"
      ]
     },
     "metadata": {
      "needs_background": "light"
     },
     "output_type": "display_data"
    }
   ],
   "source": [
    "# Celda 8\n",
    "# Datos\n",
    "data = {\n",
    "    'Modelo': ['Árbol Manual', 'Bagging Manual','Bagging librería', 'Random F. librería', 'Random F. calibrado','XGBoost libreria','XGBoost Calibrado' ],\n",
    "    'RMSE': [rmse_mt, rmse_bm, rmse_bl,rmse_rfl, rmse_rfc,test_rmse_xboost,rmse_xboost_calibrado]\n",
    "}\n",
    "\n",
    "df_resultados = pd.DataFrame(data)\n",
    "\n",
    "# Gráfica de barras\n",
    "ax = df_resultados.plot(x='Modelo', kind='bar', figsize=(14, 6), rot=0)\n",
    "plt.title('RMSE de los modelos probados')\n",
    "plt.ylabel('Valor')\n",
    "\n",
    "for p in ax.patches:\n",
    "    ax.annotate(f'{p.get_height():.2f}', (p.get_x() + p.get_width() / 2., p.get_height()),\n",
    "                ha='center', va='center', xytext=(0, 10), textcoords='offset points')\n",
    "\n",
    "plt.show()"
   ]
  },
  {
   "cell_type": "markdown",
   "metadata": {},
   "source": [
    "### Conclusiones:\n",
    "Todos los modelos presentaron un rendimiento similar, mostrando entre ellos un mejor rendimiento los XGBoost, sin embargo, el modelo que mejor se desempeña es el segundo modelo de Random Forest que respondió mejor a la calibración. Se evidencia que el modelo de árbol manual tuvo un RMSE más alto, esto es esperado ya que un árbol de decisión simple tiende a sobre ajustarse al no encontrar patrones complejos. Los modelos de bagging tienen un RMSE similar al de random forest, pero mucho más alto que random forest calibrado. esto sugiere que sin calibración random forest no ofrece una ventaja significativa sobre bagging en este caso en particular. Aunque XGboost es conocido por su alto rendimiento en muchos problemas, en este caso random forest calibrado lo supera, esto podría deberse a que el conjunto de datos contiene características que lo favorecen, como relaciones entre variables más lineales."
   ]
  }
 ],
 "metadata": {
  "deepnote_notebook_id": "beb5ba931a374bff872e28b2f8de875f",
  "kernelspec": {
   "display_name": "Python 3",
   "language": "python",
   "name": "python3"
  },
  "language_info": {
   "codemirror_mode": {
    "name": "ipython",
    "version": 3
   },
   "file_extension": ".py",
   "mimetype": "text/x-python",
   "name": "python",
   "nbconvert_exporter": "python",
   "pygments_lexer": "ipython3",
   "version": "3.8.8"
  }
 },
 "nbformat": 4,
 "nbformat_minor": 1
}
